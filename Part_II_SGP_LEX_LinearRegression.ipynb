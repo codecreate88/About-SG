{
 "cells": [
  {
   "cell_type": "code",
   "execution_count": 10,
   "metadata": {},
   "outputs": [],
   "source": [
    "import pandas as pd\n",
    "import numpy as np\n",
    "from matplotlib import pyplot as plt\n",
    "import pandas_datareader.wb as wb\n",
    "from datetime import datetime\n",
    "from sklearn.linear_model import LinearRegression\n",
    "from sklearn.model_selection import train_test_split\n",
    "from sklearn.preprocessing import StandardScaler"
   ]
  },
  {
   "cell_type": "code",
   "execution_count": 11,
   "metadata": {},
   "outputs": [
    {
     "name": "stdout",
     "output_type": "stream",
     "text": [
      "                Life_Expectancy  GDP_per_capita  Literacy_Rate  \\\n",
      "country   year                                                   \n",
      "Singapore 1990        75.295122    11861.756159       89.09600   \n",
      "          1991        75.646341    14502.379994            NaN   \n",
      "          1992        75.946341    16135.913653            NaN   \n",
      "          1993        76.046341    18290.028237            NaN   \n",
      "          1994        76.197561    21553.030900            NaN   \n",
      "          1995        76.295122    24914.411256            NaN   \n",
      "          1996        76.595122    26233.628896            NaN   \n",
      "          1997        76.897561    26375.971950            NaN   \n",
      "          1998        77.300000    21829.299870            NaN   \n",
      "          1999        77.551220    21796.084436            NaN   \n",
      "          2000        77.951220    23852.327029       92.54940   \n",
      "          2001        78.251220    21700.020046            NaN   \n",
      "          2002        78.551220    22159.688863            NaN   \n",
      "          2003        79.039024    23730.152450            NaN   \n",
      "          2004        79.490244    27608.537371            NaN   \n",
      "          2005        79.990244    29961.263277            NaN   \n",
      "          2006        80.141463    33769.154163            NaN   \n",
      "          2007        80.441463    39432.938349            NaN   \n",
      "          2008        80.790244    40007.469261            NaN   \n",
      "          2009        81.241463    38927.206882            NaN   \n",
      "          2010        81.541463    47236.960235       95.85733   \n",
      "          2011        81.743902    53890.428727       96.18608   \n",
      "          2012        81.995122    55546.488539       96.36979   \n",
      "          2013        82.246341    56967.425794       96.54808   \n",
      "          2014        82.495122    57562.530794       96.71666   \n",
      "          2015        82.743902    55646.618747       96.82549   \n",
      "          2016        82.846341    56724.170386       97.04959   \n",
      "          2017        83.095122    60297.793781       97.20225   \n",
      "          2018        83.146341    64581.944018       97.34486   \n",
      "\n",
      "                Hosp_Beds_per_1000  Labour_Force_Male  Labour_Force_Female  \n",
      "country   year                                                              \n",
      "Singapore 1990              3.6078          78.497002            47.227001  \n",
      "          1991              3.5472          78.931000            47.749001  \n",
      "          1992              3.4514          79.113998            48.189999  \n",
      "          1993              3.6427          79.125999            49.043999  \n",
      "          1994              3.5652          79.289001            49.884998  \n",
      "          1995                 NaN          79.410004            50.569000  \n",
      "          1996                 NaN          79.483002            51.172001  \n",
      "          1997                 NaN          79.564003            51.756001  \n",
      "          1998                 NaN          79.819000            51.174999  \n",
      "          1999                 NaN          79.336998            51.728001  \n",
      "          2000                 NaN          79.217003            52.152000  \n",
      "          2001              2.9000          79.069000            52.632999  \n",
      "          2002                 NaN          78.570000            51.659000  \n",
      "          2003              2.8000          78.002998            52.381001  \n",
      "          2004                 NaN          77.501999            52.845001  \n",
      "          2005              3.2000          77.771004            53.340000  \n",
      "          2006              3.2000          78.400002            54.056999  \n",
      "          2007              3.2200          78.998001            54.806000  \n",
      "          2008              3.1000          78.560997            57.259998  \n",
      "          2009                 NaN          78.792000            56.886002  \n",
      "          2010                 NaN          78.652000            58.078999  \n",
      "          2011              2.0000          78.469002            58.827000  \n",
      "          2012                 NaN          78.886002            59.798000  \n",
      "          2013              2.1000          78.654999            60.133999  \n",
      "          2014                 NaN          79.002998            61.370998  \n",
      "          2015              2.4000          79.358002            62.573002  \n",
      "          2016                 NaN          78.847000            62.514000  \n",
      "          2017                 NaN          78.981003            62.136002  \n",
      "          2018                 NaN          78.382004            62.074001  \n"
     ]
    }
   ],
   "source": [
    "indicators_raw = wb.download(indicator=[\"SP.DYN.LE00.IN\", \"NY.GDP.PCAP.CD\", \"SE.ADT.LITR.ZS\", \\\n",
    "                                        \"SH.MED.BEDS.ZS\", \"SL.TLF.CACT.MA.ZS\", \"SL.TLF.CACT.FE.ZS\"], \\\n",
    "                             country=\"SGP\", start=1990, end=2018)\n",
    "\n",
    "#rename columns\n",
    "indicators_raw.columns = [\"Life_Expectancy\", \"GDP_per_capita\", \"Literacy_Rate\", \\\n",
    "                          \"Hosp_Beds_per_1000\", \"Labour_Force_Male\", \"Labour_Force_Female\"]\n",
    "indicators = indicators_raw.sort_index(level=1, ascending=True)\n",
    "print(indicators)"
   ]
  },
  {
   "cell_type": "code",
   "execution_count": 12,
   "metadata": {},
   "outputs": [
    {
     "name": "stdout",
     "output_type": "stream",
     "text": [
      "Literacy_Rate and Hosp_Beds were dropped due to large missing data.\n"
     ]
    }
   ],
   "source": [
    "print(\"Literacy_Rate and Hosp_Beds were dropped due to large missing data.\")"
   ]
  },
  {
   "cell_type": "code",
   "execution_count": 13,
   "metadata": {},
   "outputs": [
    {
     "data": {
      "image/png": "[encoded data removed]",
      "text/plain": [
       "<Figure size 360x360 with 1 Axes>"
      ]
     },
     "metadata": {
      "needs_background": "light"
     },
     "output_type": "display_data"
    },
    {
     "name": "stdout",
     "output_type": "stream",
     "text": [
      "Gradient of line through scatterplot looks close to 1.\n"
     ]
    }
   ],
   "source": [
    "X = indicators[[\"GDP_per_capita\", \"Labour_Force_Male\", \"Labour_Force_Female\"]]\n",
    "y = indicators[[\"Life_Expectancy\"]]\n",
    "\n",
    "#normalising independent variables\n",
    "scaler = StandardScaler()\n",
    "scaler.fit_transform(X)\n",
    "\n",
    "#fitting Linear Regression\n",
    "linear = LinearRegression()\n",
    "linear.fit(X, y)\n",
    "y_predict = linear.predict(X)\n",
    "\n",
    "x_gradient = [x for x in range(76, 85)]\n",
    "y_gradient = [y for y in range(76, 85)]\n",
    "\n",
    "fig = plt.figure(figsize=(5,5))\n",
    "plt.scatter(y_predict, y, color=\"tab:cyan\", alpha=0.8)\n",
    "plt.plot(x_gradient, y_gradient)\n",
    "plt.xlabel(\"Predicted Life Expectancy\")\n",
    "plt.ylabel(\"Actual Life Expectancy\")\n",
    "plt.title(\"Predicted Life Expectancy vs Actual Life Expectancy-SGP\")\n",
    "plt.show()\n",
    "\n",
    "print(\"Gradient of line through scatterplot looks close to 1.\")"
   ]
  },
  {
   "cell_type": "code",
   "execution_count": 14,
   "metadata": {},
   "outputs": [
    {
     "name": "stdout",
     "output_type": "stream",
     "text": [
      "[[-1.83538260e-05 -9.55444609e-01  5.66864133e-01]]\n",
      "Score of Linear Regression (Rsquared) : 0.9764\n"
     ]
    }
   ],
   "source": [
    "Rsquared = linear.score(X, y)\n",
    "coefficients = linear.coef_\n",
    "print(coefficients)\n",
    "print(\"Score of Linear Regression (Rsquared) : {:.4f}\".format(Rsquared))"
   ]
  },
  {
   "cell_type": "code",
   "execution_count": 15,
   "metadata": {},
   "outputs": [
    {
     "name": "stdout",
     "output_type": "stream",
     "text": [
      "(23, 3)\n",
      "(6, 3)\n",
      "(23, 1)\n",
      "(6, 1)\n"
     ]
    }
   ],
   "source": [
    "#Fitting a subsequent model of splitting the data into training and testing sets   \n",
    "\n",
    "X_1 = indicators[[\"GDP_per_capita\", \"Labour_Force_Male\", \"Labour_Force_Female\"]]\n",
    "y_1 = indicators[[\"Life_Expectancy\"]]\n",
    "\n",
    "X_1_train, X_1_test, y_1_train, y_1_test = train_test_split(X_1, y_1, train_size=0.8, \\\n",
    "                                                            test_size=0.2, random_state=6)\n",
    "print(X_1_train.shape)\n",
    "print(X_1_test.shape)\n",
    "print(y_1_train.shape)\n",
    "print(y_1_test.shape)"
   ]
  },
  {
   "cell_type": "code",
   "execution_count": 16,
   "metadata": {},
   "outputs": [
    {
     "data": {
      "image/png": "[encoded data removed]",
      "text/plain": [
       "<Figure size 360x360 with 1 Axes>"
      ]
     },
     "metadata": {
      "needs_background": "light"
     },
     "output_type": "display_data"
    },
    {
     "name": "stdout",
     "output_type": "stream",
     "text": [
      "Gradient of line through scatterplot looks close to 1.\n"
     ]
    }
   ],
   "source": [
    "scaler = StandardScaler()\n",
    "scaler.fit_transform(X_1_train)\n",
    "scaler.transform(X_1_test)\n",
    "\n",
    "mlr = LinearRegression()\n",
    "mlr.fit(X_1_train, y_1_train)\n",
    "y_1_predict = mlr.predict(X_1_test)\n",
    "\n",
    "x_1_gradient = [x for x in range(76, 85)]\n",
    "y_1_gradient = [y for y in range(76, 85)]\n",
    "\n",
    "fig = plt.figure(figsize=(5,5))\n",
    "plt.scatter(y_1_predict, y_1_test, color=\"tab:cyan\", alpha=0.8)\n",
    "plt.plot(x_1_gradient, y_1_gradient)\n",
    "plt.xlabel(\"Predicted Life Expectancy\")\n",
    "plt.ylabel(\"Actual Life Expectancy\")\n",
    "plt.title(\"Predicted Life Expectancy vs Actual Life Expectancy-SGP\")\n",
    "plt.show()\n",
    "\n",
    "print(\"Gradient of line through scatterplot looks close to 1.\")"
   ]
  },
  {
   "cell_type": "code",
   "execution_count": 17,
   "metadata": {},
   "outputs": [
    {
     "name": "stdout",
     "output_type": "stream",
     "text": [
      "[[-2.90646880e-05 -1.08369374e+00  5.97108058e-01]]\n",
      "Score of Linear Regression (Rsquared) : 0.9772\n"
     ]
    }
   ],
   "source": [
    "mlr_coefficients = mlr.coef_\n",
    "Rsquared = mlr.score(X_1_train, y_1_train)\n",
    "\n",
    "print(mlr_coefficients)\n",
    "print(\"Score of Linear Regression (Rsquared) : {:.4f}\".format(Rsquared))"
   ]
  }
 ],
 "metadata": {
  "kernelspec": {
   "display_name": "Python 3",
   "language": "python",
   "name": "python3"
  },
  "language_info": {
   "codemirror_mode": {
    "name": "ipython",
    "version": 3
   },
   "file_extension": ".py",
   "mimetype": "text/x-python",
   "name": "python",
   "nbconvert_exporter": "python",
   "pygments_lexer": "ipython3",
   "version": "3.7.6"
  }
 },
 "nbformat": 4,
 "nbformat_minor": 4
}
